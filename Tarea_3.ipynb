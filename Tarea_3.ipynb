{
  "nbformat": 4,
  "nbformat_minor": 0,
  "metadata": {
    "colab": {
      "name": "Tarea_3.ipynb",
      "provenance": [],
      "authorship_tag": "ABX9TyOEXA4xyukV/IJFDjv5Ai2t",
      "include_colab_link": true
    },
    "kernelspec": {
      "name": "python3",
      "display_name": "Python 3"
    },
    "language_info": {
      "name": "python"
    }
  },
  "cells": [
    {
      "cell_type": "markdown",
      "metadata": {
        "id": "view-in-github",
        "colab_type": "text"
      },
      "source": [
        "<a href=\"https://colab.research.google.com/github/RagdeOlvera/Tarea_3/blob/main/Tarea_3.ipynb\" target=\"_parent\"><img src=\"https://colab.research.google.com/assets/colab-badge.svg\" alt=\"Open In Colab\"/></a>"
      ]
    },
    {
      "cell_type": "code",
      "metadata": {
        "colab": {
          "base_uri": "https://localhost:8080/"
        },
        "id": "0Vi1QtF7tnkw",
        "outputId": "178bde30-0b4b-4804-b542-a89850f865dd"
      },
      "source": [
        "print(\"Programa para levantar la comanda de un restaurante.\")\n",
        "print(\"\")\n",
        "menu_select = {\n",
        "    \"Mesa\":3,\n",
        "    \"Comensal\":2,\n",
        "    \"Entrada\":\"Ensalada verde\", \n",
        "    \"Medio\":\"Crema de zanahoria\",\n",
        "    \"Fuerte\":\"Filete\",\n",
        "    \"Adicionales\":\"Filete término medio, la ensalada sin ningun tipo de semilla, Adereso Ranch\",\n",
        "    }\n",
        "\n",
        "print(\"---------------------------------------------------\")\n",
        "print(\"\\n\\nDetalles:\")\n",
        "\n",
        "llaves = menu_select.keys()\n",
        "for llave in llaves:\n",
        "  print(f\"\\n\\t\\t{llave.upper()}: {menu_select[llave]}\")\n"
      ],
      "execution_count": 45,
      "outputs": [
        {
          "output_type": "stream",
          "name": "stdout",
          "text": [
            "Programa para levantar la comanda de un restaurante.\n",
            "\n",
            "---------------------------------------------------\n",
            "\n",
            "\n",
            "Detalles:\n",
            "\n",
            "\t\tMESA: 3\n",
            "\n",
            "\t\tCOMENSAL: 2\n",
            "\n",
            "\t\tENTRADA: Ensalada verde\n",
            "\n",
            "\t\tMEDIO: Crema de zanahoria\n",
            "\n",
            "\t\tFUERTE: Filete\n",
            "\n",
            "\t\tADICIONALES: Filete término medio, la ensalada sin ningun tipo de semilla, Adereso Ranch\n"
          ]
        }
      ]
    }
  ]
}